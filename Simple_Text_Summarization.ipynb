{
  "nbformat": 4,
  "nbformat_minor": 0,
  "metadata": {
    "colab": {
      "name": "Simple Text Summarization.ipynb",
      "provenance": [],
      "authorship_tag": "ABX9TyN/SHueCbMdmO0b7WhzF4LJ",
      "include_colab_link": true
    },
    "kernelspec": {
      "name": "python3",
      "display_name": "Python 3"
    }
  },
  "cells": [
    {
      "cell_type": "markdown",
      "metadata": {
        "id": "view-in-github",
        "colab_type": "text"
      },
      "source": [
        "<a href=\"https://colab.research.google.com/github/dpetrovic89/Simple-Text-Summarization/blob/main/Simple_Text_Summarization.ipynb\" target=\"_parent\"><img src=\"https://colab.research.google.com/assets/colab-badge.svg\" alt=\"Open In Colab\"/></a>"
      ]
    },
    {
      "cell_type": "markdown",
      "metadata": {
        "id": "WipwaquZ0Ke7"
      },
      "source": [
        "# Document Summarization\r\n",
        "\r\n",
        "The idea of document summarization is a\r\n",
        "bit different from keyphrase extraction or topic modeling. In this case, the end result\r\n",
        "is still in the form of some document, but with a few sentences based on the length we\r\n",
        "might want the summary to be. This is similar to an abstract or an executive summary\r\n",
        "in a research paper. The main objective of automated document summarization is\r\n",
        "to perform this summarization without involving human input, except for running\r\n",
        "computer programs. Mathematical and statistical models help in building and\r\n",
        "automating the task of summarizing documents by observing their content and context.\r\n",
        "\r\n",
        "There are two broad approaches to document summarization using automated\r\n",
        "techniques. They are described as follows:\r\n",
        "- __Extraction-based techniques:__ These methods use mathematical\r\n",
        "and statistical concepts like SVD to extract some key subset of the\r\n",
        "content from the original document such that this subset of content\r\n",
        "contains the core information and acts as the focal point of the entire\r\n",
        "document. This content can be words, phrases, or even sentences.\r\n",
        "The end result from this approach is a short executive summary of a\r\n",
        "couple of lines extracted from the original document. No new content\r\n",
        "is generated in this technique, hence the name extraction-based.\r\n",
        "- __Abstraction-based techniques:__ These methods are more complex\r\n",
        "and sophisticated. They leverage language semantics to create\r\n",
        "representations and use natural language generation (NLG)\r\n",
        "techniques where the machine uses knowledge bases and semantic\r\n",
        "representations to generate text on its own and create summaries\r\n",
        "just like a human would write them. Thanks to deep learning, we can\r\n",
        "implement these techniques easily but they require a lot of data and\r\n",
        "compute.\r\n",
        "\r\n"
      ]
    },
    {
      "cell_type": "code",
      "metadata": {
        "colab": {
          "base_uri": "https://localhost:8080/"
        },
        "id": "_meT6eWJ06YG",
        "outputId": "2dbae668-b945-483c-88ed-22061b73a8d7"
      },
      "source": [
        "pip install sumy"
      ],
      "execution_count": 2,
      "outputs": [
        {
          "output_type": "stream",
          "text": [
            "Collecting sumy\n",
            "\u001b[?25l  Downloading https://files.pythonhosted.org/packages/61/20/8abf92617ec80a2ebaec8dc1646a790fc9656a4a4377ddb9f0cc90bc9326/sumy-0.8.1-py2.py3-none-any.whl (83kB)\n",
            "\r\u001b[K     |████                            | 10kB 12.8MB/s eta 0:00:01\r\u001b[K     |███████▉                        | 20kB 13.4MB/s eta 0:00:01\r\u001b[K     |███████████▊                    | 30kB 7.4MB/s eta 0:00:01\r\u001b[K     |███████████████▋                | 40kB 6.9MB/s eta 0:00:01\r\u001b[K     |███████████████████▌            | 51kB 4.3MB/s eta 0:00:01\r\u001b[K     |███████████████████████▍        | 61kB 4.9MB/s eta 0:00:01\r\u001b[K     |███████████████████████████▍    | 71kB 5.0MB/s eta 0:00:01\r\u001b[K     |███████████████████████████████▎| 81kB 5.2MB/s eta 0:00:01\r\u001b[K     |████████████████████████████████| 92kB 3.9MB/s \n",
            "\u001b[?25hRequirement already satisfied: docopt<0.7,>=0.6.1 in /usr/local/lib/python3.6/dist-packages (from sumy) (0.6.2)\n",
            "Collecting breadability>=0.1.20\n",
            "  Downloading https://files.pythonhosted.org/packages/ad/2d/bb6c9b381e6b6a432aa2ffa8f4afdb2204f1ff97cfcc0766a5b7683fec43/breadability-0.1.20.tar.gz\n",
            "Requirement already satisfied: requests>=2.7.0 in /usr/local/lib/python3.6/dist-packages (from sumy) (2.23.0)\n",
            "Collecting pycountry>=18.2.23\n",
            "\u001b[?25l  Downloading https://files.pythonhosted.org/packages/76/73/6f1a412f14f68c273feea29a6ea9b9f1e268177d32e0e69ad6790d306312/pycountry-20.7.3.tar.gz (10.1MB)\n",
            "\u001b[K     |████████████████████████████████| 10.1MB 6.5MB/s \n",
            "\u001b[?25hRequirement already satisfied: nltk>=3.0.2 in /usr/local/lib/python3.6/dist-packages (from sumy) (3.2.5)\n",
            "Requirement already satisfied: chardet in /usr/local/lib/python3.6/dist-packages (from breadability>=0.1.20->sumy) (3.0.4)\n",
            "Requirement already satisfied: lxml>=2.0 in /usr/local/lib/python3.6/dist-packages (from breadability>=0.1.20->sumy) (4.2.6)\n",
            "Requirement already satisfied: certifi>=2017.4.17 in /usr/local/lib/python3.6/dist-packages (from requests>=2.7.0->sumy) (2020.12.5)\n",
            "Requirement already satisfied: urllib3!=1.25.0,!=1.25.1,<1.26,>=1.21.1 in /usr/local/lib/python3.6/dist-packages (from requests>=2.7.0->sumy) (1.24.3)\n",
            "Requirement already satisfied: idna<3,>=2.5 in /usr/local/lib/python3.6/dist-packages (from requests>=2.7.0->sumy) (2.10)\n",
            "Requirement already satisfied: six in /usr/local/lib/python3.6/dist-packages (from nltk>=3.0.2->sumy) (1.15.0)\n",
            "Building wheels for collected packages: breadability, pycountry\n",
            "  Building wheel for breadability (setup.py) ... \u001b[?25l\u001b[?25hdone\n",
            "  Created wheel for breadability: filename=breadability-0.1.20-py2.py3-none-any.whl size=21683 sha256=941c447db269e8c0370f2b5f616330386f432d5615e278c138523e1e24192cdb\n",
            "  Stored in directory: /root/.cache/pip/wheels/5a/4d/a1/510b12c5e65e0b2b3ce539b2af66da0fc57571e528924f4a52\n",
            "  Building wheel for pycountry (setup.py) ... \u001b[?25l\u001b[?25hdone\n",
            "  Created wheel for pycountry: filename=pycountry-20.7.3-py2.py3-none-any.whl size=10746863 sha256=c257446c1c349ab0856ed031c3adcc50d8952eb311855943d1d23e2d93d85cf7\n",
            "  Stored in directory: /root/.cache/pip/wheels/33/4e/a6/be297e6b83567e537bed9df4a93f8590ec01c1acfbcd405348\n",
            "Successfully built breadability pycountry\n",
            "Installing collected packages: breadability, pycountry, sumy\n",
            "Successfully installed breadability-0.1.20 pycountry-20.7.3 sumy-0.8.1\n"
          ],
          "name": "stdout"
        }
      ]
    },
    {
      "cell_type": "code",
      "metadata": {
        "colab": {
          "base_uri": "https://localhost:8080/"
        },
        "id": "8TChxfO01Kpu",
        "outputId": "fcad276d-b1f6-4ab7-a1e7-ca50d3d25108"
      },
      "source": [
        "import nltk\r\n",
        "nltk.download('punkt')\r\n",
        "nltk.download('stopwords')"
      ],
      "execution_count": 11,
      "outputs": [
        {
          "output_type": "stream",
          "text": [
            "[nltk_data] Downloading package punkt to /root/nltk_data...\n",
            "[nltk_data]   Package punkt is already up-to-date!\n",
            "[nltk_data] Downloading package stopwords to /root/nltk_data...\n",
            "[nltk_data]   Unzipping corpora/stopwords.zip.\n"
          ],
          "name": "stdout"
        },
        {
          "output_type": "execute_result",
          "data": {
            "text/plain": [
              "True"
            ]
          },
          "metadata": {
            "tags": []
          },
          "execution_count": 11
        }
      ]
    },
    {
      "cell_type": "markdown",
      "metadata": {
        "id": "yAuRUOYE3deE"
      },
      "source": [
        "### TextRank in Sumy library\r\n",
        "\r\n",
        "This library takes care of HTML parsing and tokenization for the\r\n",
        "given URL, then uses TextRank to choose the most important\r\n",
        "sentences as the summary of the text. Running this code shows the\r\n",
        "five most important sentences in the Wikipedia page on automatic\r\n",
        "summarization.\r\n"
      ]
    },
    {
      "cell_type": "code",
      "metadata": {
        "colab": {
          "base_uri": "https://localhost:8080/"
        },
        "id": "Gkq7C8xX0FzI",
        "outputId": "153b00b7-8717-4c34-8106-a25d903954bb"
      },
      "source": [
        "from sumy.parsers.html import HtmlParser\r\n",
        "from sumy.nlp.tokenizers import Tokenizer\r\n",
        "from sumy.summarizers.text_rank import TextRankSummarizer\r\n",
        "url = \"https://en.wikipedia.org/wiki/Dejan_Savi%C4%87evi%C4%87\"\r\n",
        "parser = HtmlParser.from_url(url, Tokenizer(\"english\"))\r\n",
        "summarizer = TextRankSummarizer()\r\n",
        "for sentence in summarizer(parser.document, 5):\r\n",
        " print(sentence)"
      ],
      "execution_count": 6,
      "outputs": [
        {
          "output_type": "stream",
          "text": [
            "Savićević and Capello quickly developed an antagonistic relationship with the former frustrated at being regularly dropped from the first team, and the latter unwilling to change the winning formula that had the team on an undefeated run in the league dating back to May 1991 (the streak would eventually end after 58 matches in March 1993 versus Parma ).\n",
            "Still, for the Montenegrin's inspirational and creative play, Milan-based journalist Germano Bovolenta of La Gazzetta dello Sport hailed Savićević as Il Genio (The Genius), a nickname that initially drew snickers and even occasional ridicule from other journalists — especially those writing for the Turin -based Tuttosport and Rome -based Corriere dello Sport — but would eventually gain wider acceptance in the country after Savićević's performance in the 1994 Champions League Final.\n",
            "In the knockout stages , Savićević was again on the bench for the start of the match against Spain in the excruciating late afternoon heat of Verona , but got his chance early into the second half with the score still tied at 0–0, coming on for largely ineffective club teammate Darko Pančev .\n",
            "Considered by many in the sport to be the best footballer that Montenegro has ever produced, [51][53] Savićević was a classic number 10 who preferred functioning in a free role as a playmaker ; throughout his career, he was usually deployed in an attacking midfield role, either in a central position behind the striker(s), or out wide on the wings , on either flank, due to his ability to provide crosses to teammates in the area from the left wing, or cut into the centre onto his stronger left foot from the right.\n",
            "Several months later in fall 2006, the vicious public rift between two men got reignited following cancellation of the FK Zeta versus Budućnost Montenegrin First League fixture that had been scheduled for 4 September 2006 but ended up not getting played due to threats of fan violence and incidents outside of Zeta's Trešnjica ground in the Podgorica suburb of Golubovci as scuffles broke out between members of the two clubs' respective managements after Božović refused to let the rivals enter the stadium.\n"
          ],
          "name": "stdout"
        }
      ]
    },
    {
      "cell_type": "markdown",
      "metadata": {
        "id": "zT12ZcK_5JGr"
      },
      "source": [
        "### Get Text Document\r\n",
        "\r\n",
        "We use the description of a very popular role-playing game (RPG) Skyrim from\r\n",
        "Bethesda Softworks for summarization. \r\n",
        "\r\n"
      ]
    },
    {
      "cell_type": "code",
      "metadata": {
        "id": "ZccYBFkn5YVr"
      },
      "source": [
        "DOCUMENT = \"\"\"\r\n",
        "The Elder Scrolls V: Skyrim is an action role-playing video game developed by Bethesda Game Studios \r\n",
        "and published by Bethesda Softworks. It is the fifth main installment in The Elder Scrolls series, \r\n",
        "following The Elder Scrolls IV: Oblivion.\r\n",
        "The game's main story revolves around the player character's quest to defeat Alduin the World-Eater, \r\n",
        "a dragon who is prophesied to destroy the world. The game is set 200 years after the events of Oblivion \r\n",
        "and takes place in the fictional province of Skyrim. Over the course of the game, the player completes \r\n",
        "quests and develops the character by improving skills. The game continues the open-world tradition of \r\n",
        "its predecessors by allowing the player to travel anywhere in the game world at any time, and to ignore \r\n",
        "or postpone the main storyline indefinitely.\r\n",
        "The team opted for a unique and more diverse open world than Oblivion's Imperial Province of Cyrodiil, \r\n",
        "which game director and executive producer Todd Howard considered less interesting by comparison. \r\n",
        "The game was released to critical acclaim, with reviewers particularly mentioning the character advancement \r\n",
        "and setting, and is considered to be one of the greatest video games of all time.\r\n",
        "\r\n",
        "\r\n",
        "The Elder Scrolls V: Skyrim is an action role-playing game, playable from either a first or \r\n",
        "third-person perspective. The player may freely roam over the land of Skyrim which is an open world \r\n",
        "environment consisting of wilderness expanses, dungeons, cities, towns, fortresses, and villages. \r\n",
        "Players may navigate the game world more quickly by riding horses or by utilizing a fast-travel system \r\n",
        "which allows them to warp to previously discovered locations. The game's main quest can be completed or \r\n",
        "ignored at the player's preference after the first stage of the quest is finished. However, some quests \r\n",
        "rely on the main storyline being at least partially completed. Non-player characters (NPCs) populate the \r\n",
        "world and can be interacted with in a number of ways: the player may engage them in conversation, \r\n",
        "marry an eligible NPC, kill them or engage in a nonlethal \"brawl\". The player may \r\n",
        "choose to join factions which are organized groups of NPCs — for example, the Dark Brotherhood, a band \r\n",
        "of assassins. Each of the factions has an associated quest path to progress through. Each city and town \r\n",
        "in the game world has jobs that the player can engage in, such as farming.\r\n",
        "\r\n",
        "Players have the option to develop their character. At the beginning of the game, players create \r\n",
        "their character by selecting their sex and choosing between one of several races including humans, \r\n",
        "orcs, elves, and anthropomorphic cat or lizard-like creatures and then customizing their character's \r\n",
        "appearance. Over the course of the game, players improve their character's skills which are numerical \r\n",
        "representations of their ability in certain areas. There are eighteen skills divided evenly among the \r\n",
        "three schools of combat, magic, and stealth. When players have trained skills enough to meet the \r\n",
        "required experience, their character levels up. Health is depleted primarily when the player \r\n",
        "takes damage and the loss of all health results in death. Magicka is depleted by the use of spells, \r\n",
        "certain poisons and by being struck by lightning-based attacks. Stamina determines the player's \r\n",
        "effectiveness in combat and is depleted by sprinting, performing heavy \"power attacks\" \r\n",
        "and being struck by frost-based attacks. Skyrim is the first entry in The Elder Scrolls to \r\n",
        "include dragons in the game's wilderness. Like other creatures, dragons are generated randomly in \r\n",
        "the world and will engage in combat with NPCs, creatures and the player. Some dragons may attack \r\n",
        "cities and towns when in their proximity. The player character can absorb the souls of dragons \r\n",
        "in order to use powerful spells called \"dragon shouts\" or \"Thu'um\". A regeneration \r\n",
        "period limits the player's use of shouts in gameplay.\r\n",
        "\r\n",
        "Skyrim is set around 200 years after the events of The Elder Scrolls IV: Oblivion, although it is \r\n",
        "not a direct sequel. The game takes place in Skyrim, a province of the Empire on the continent of \r\n",
        "Tamriel, amid a civil war between two factions: the Stormcloaks, led by Ulfric Stormcloak, and the \r\n",
        "Imperial Legion, led by General Tullius. The player character is a Dragonborn, a mortal born with \r\n",
        "the soul and power of a dragon. Alduin, a large black dragon who returns to the land after being \r\n",
        "lost in time, serves as the game's primary antagonist. Alduin is the first dragon created by Akatosh, \r\n",
        "one of the series' gods, and is prophesied to destroy and consume the world.\r\n",
        "\"\"\""
      ],
      "execution_count": 13,
      "outputs": []
    },
    {
      "cell_type": "code",
      "metadata": {
        "id": "7diMK87t1eYd"
      },
      "source": [
        "import re\r\n",
        "\r\n",
        "DOCUMENT = re.sub(r'\\n|\\r', ' ', DOCUMENT)\r\n",
        "DOCUMENT = re.sub(r' +', ' ', DOCUMENT)\r\n",
        "DOCUMENT = DOCUMENT.strip()"
      ],
      "execution_count": 14,
      "outputs": []
    },
    {
      "cell_type": "markdown",
      "metadata": {
        "id": "RMqKq10g5tBI"
      },
      "source": [
        "# Summarization with Gensim\r\n",
        "\r\n",
        "Let’s look at an implementation of document summarization by leveraging Gensim’s\r\n",
        "summarization module. It is pretty straightforward."
      ]
    },
    {
      "cell_type": "code",
      "metadata": {
        "colab": {
          "base_uri": "https://localhost:8080/"
        },
        "id": "lk_r32Kn5x3d",
        "outputId": "1c27f901-6ca6-4f55-8101-058db025bb57"
      },
      "source": [
        "from gensim.summarization import summarize\r\n",
        "\r\n",
        "print(summarize(DOCUMENT, ratio=0.2, split=False))"
      ],
      "execution_count": 15,
      "outputs": [
        {
          "output_type": "stream",
          "text": [
            "The game's main story revolves around the player character's quest to defeat Alduin the World-Eater, a dragon who is prophesied to destroy the world.\n",
            "Over the course of the game, the player completes quests and develops the character by improving skills.\n",
            "The game continues the open-world tradition of its predecessors by allowing the player to travel anywhere in the game world at any time, and to ignore or postpone the main storyline indefinitely.\n",
            "The player may freely roam over the land of Skyrim which is an open world environment consisting of wilderness expanses, dungeons, cities, towns, fortresses, and villages.\n",
            "Each city and town in the game world has jobs that the player can engage in, such as farming.\n",
            "Over the course of the game, players improve their character's skills which are numerical representations of their ability in certain areas.\n",
            "Like other creatures, dragons are generated randomly in the world and will engage in combat with NPCs, creatures and the player.\n"
          ],
          "name": "stdout"
        }
      ]
    },
    {
      "cell_type": "code",
      "metadata": {
        "colab": {
          "base_uri": "https://localhost:8080/"
        },
        "id": "ZErGry1-6fqx",
        "outputId": "f432fee8-1294-4c3e-96d3-ae32f0df3cb7"
      },
      "source": [
        "print(summarize(DOCUMENT, word_count=75, split=False))"
      ],
      "execution_count": 16,
      "outputs": [
        {
          "output_type": "stream",
          "text": [
            "The game's main story revolves around the player character's quest to defeat Alduin the World-Eater, a dragon who is prophesied to destroy the world.\n",
            "Over the course of the game, the player completes quests and develops the character by improving skills.\n",
            "The player may freely roam over the land of Skyrim which is an open world environment consisting of wilderness expanses, dungeons, cities, towns, fortresses, and villages.\n"
          ],
          "name": "stdout"
        }
      ]
    },
    {
      "cell_type": "code",
      "metadata": {
        "colab": {
          "base_uri": "https://localhost:8080/"
        },
        "id": "wQOpNf6J6ouK",
        "outputId": "1166001e-83ec-47da-ee55-cf14955872b6"
      },
      "source": [
        "sentences = nltk.sent_tokenize(DOCUMENT)\r\n",
        "len(sentences)"
      ],
      "execution_count": 17,
      "outputs": [
        {
          "output_type": "execute_result",
          "data": {
            "text/plain": [
              "35"
            ]
          },
          "metadata": {
            "tags": []
          },
          "execution_count": 17
        }
      ]
    }
  ]
}